{
 "cells": [
  {
   "cell_type": "markdown",
   "metadata": {},
   "source": [
    "# Source\n",
    "\n",
    "> Source code for **y**et**a**nother**s**olve**i**t"
   ]
  },
  {
   "cell_type": "code",
   "execution_count": null,
   "metadata": {},
   "outputs": [],
   "source": [
    "#| default_exp core"
   ]
  },
  {
   "cell_type": "code",
   "execution_count": null,
   "metadata": {},
   "outputs": [
    {
     "name": "stderr",
     "output_type": "stream",
     "text": [
      "/opt/conda/lib/python3.12/site-packages/nbdev/doclinks.py:20: UserWarning: pkg_resources is deprecated as an API. See https://setuptools.pypa.io/en/latest/pkg_resources.html. The pkg_resources package is slated for removal as early as 2025-11-30. Refrain from using this package or pin to Setuptools<81.\n",
      "  import pkg_resources,importlib\n"
     ]
    }
   ],
   "source": [
    "#| hide\n",
    "from nbdev.showdoc import *"
   ]
  },
  {
   "cell_type": "code",
   "execution_count": null,
   "metadata": {},
   "outputs": [],
   "source": [
    "#| export\n",
    "from ipylab import JupyterFrontEnd\n",
    "import openai\n",
    "import json\n",
    "\n",
    "class JupyterChat:\n",
    "    \"\"\"Integrates a chatbot into JupyterLab, allowing users to interact with an OpenAI model directly within notebooks.\"\"\"\n",
    "    def __init__(self, \n",
    "                 api_key : str,  # api key for the openai api\n",
    "                 openai_base_url : str =None, # base url of the openai api\n",
    "                 model : str =None, # model id for the openai api\n",
    "                 tag_user : str ='#| chat_user', # tag for user chat markdown cells\n",
    "                 tag_assistant : str ='#| chat_assistant' # tag for assistant chat markdown cells\n",
    "                ):\n",
    "        self.client = openai.Client(base_url=openai_base_url, api_key=api_key)\n",
    "        self.app = JupyterFrontEnd()\n",
    "        self.model = model if model is not None else 'meta-llama/llama-3.3-8b-instruct:free'\n",
    "        self.latest_response = None\n",
    "        self.tag_user = tag_user\n",
    "        self.tag_assistant = tag_assistant\n",
    "\n",
    "    def create_new_markdown_cell(self, \n",
    "                                 content: str # Markdown content\n",
    "                                ):\n",
    "        \"\"\"Adds a new markdown cell with the given content below\"\"\"\n",
    "        self.app.commands.execute('notebook:insert-cell-below')\n",
    "        self.app.commands.execute('notebook:replace-selection', { 'text': content})\n",
    "        self.app.commands.execute('notebook:change-cell-to-markdown')\n",
    "\n",
    "    def send_query(self, user_prompt: str):\n",
    "        \"\"\"Send user prompt to chatbot and insert response as new cell\"\"\"\n",
    "        response = self.client.chat.completions.create(\n",
    "            model=self.model,\n",
    "            messages=[{\"role\": \"user\", \"content\": user_prompt}]\n",
    "        )\n",
    "        self.latest_response = response\n",
    "        response_text = response.choices[0].message.content.strip()\n",
    "        formatted_response = f'{self.tag_assistant}\\n\\n{response_text}'.strip()\n",
    "        self.create_new_markdown_cell(formatted_response)\n",
    "\n",
    "    def get_current_nb(self):\n",
    "        \"\"\"Saves the the notebook returns the JSON content\"\"\"\n",
    "        self.app.commands.execute('docmanager:save')\n",
    "        fn = self.app.sessions.current_session['name']\n",
    "        with open(fn, 'r') as f:\n",
    "            current_notebook = json.load(f)\n",
    "        return current_notebook\n",
    "    \n",
    "    def extract_notebook_dialoge(self):\n",
    "        \"\"\"Extracts the tagged dialoge form the current notebook, and turns it into a messages list\"\"\"\n",
    "        current_notebook = self.get_current_nb()\n",
    "        tmp_messages = []\n",
    "        for cell in current_notebook['cells']:\n",
    "            user_tag =  tag_in_cell(cell, self.tag_user)\n",
    "            ast_tag =  tag_in_cell(cell, self.tag_assistant)\n",
    "            if any([user_tag, ast_tag]):\n",
    "                role = 'user' if user_tag else 'assistant'\n",
    "                tmp_content = ''.join(cell['source'])\n",
    "                tmp_messages.append({\"role\": role, \"content\": tmp_content})\n",
    "            if all([user_tag, ast_tag]):\n",
    "                tmp_content = '## ⚠⚠⚠ cell contains user and asssitant tags ⚠⚠⚠\\n'\n",
    "                tmp_content += 'identify the following cell and select only one tag\\n'\n",
    "                tmp_content += '> ' + '> '.join(cell['source'])\n",
    "                self.create_new_markdown_cell(tmp_content)\n",
    "        return tmp_messages\n",
    "\n",
    "    def send_dialoge(self):\n",
    "        \"\"\"Sends the dialoge to the openai api and adds the response as a new cell below\"\"\"\n",
    "        response = self.client.chat.completions.create(\n",
    "            model=self.model,\n",
    "            messages= self.extract_notebook_dialoge()\n",
    "        )\n",
    "        self.latest_response = response\n",
    "        response_text = response.choices[0].message.content.strip()\n",
    "        \n",
    "        # Format the response with Markdown-like style in a code cell\n",
    "        formatted_response = f'{self.tag_assistant}\\n\\n{response_text}'.strip()\n",
    "\n",
    "        # Insert a new cell below with the assistant's response\n",
    "        self.create_new_markdown_cell(formatted_response)"
   ]
  },
  {
   "cell_type": "code",
   "execution_count": null,
   "metadata": {},
   "outputs": [],
   "source": [
    "#| export\n",
    "def tag_in_cell(cell, # Dictonary of a Jupyter Notebook cell\n",
    "                tag # The tag to search\n",
    "               )->bool: # True if any line contains the given tag\n",
    "    \"\"\"Checks a Jupyter Notebook cells source, if any line starts with the given tag\"\"\"\n",
    "    return any([line.startswith(tag) for line in cell['source']])"
   ]
  },
  {
   "cell_type": "markdown",
   "metadata": {},
   "source": [
    "## Setup JupyterChat\n",
    "A few things can be demonstraded without having access to an openai API. For instance getting the dictonary or the current notebook using [ipylab](https://github.com/jtpio/ipylab)."
   ]
  },
  {
   "cell_type": "code",
   "execution_count": null,
   "metadata": {},
   "outputs": [],
   "source": [
    "jc = JupyterChat(api_key='not-a-key')"
   ]
  },
  {
   "cell_type": "markdown",
   "metadata": {},
   "source": [
    "You can get the dictionary of the current notebook."
   ]
  },
  {
   "cell_type": "code",
   "execution_count": null,
   "metadata": {},
   "outputs": [],
   "source": [
    "# ToDo: Bugfix\n",
    "#nb = jc.get_current_nb()\n",
    "#nb.keys()"
   ]
  },
  {
   "cell_type": "markdown",
   "metadata": {},
   "source": [
    "And search the source code lines of the cells for a specific tag."
   ]
  },
  {
   "cell_type": "code",
   "execution_count": null,
   "metadata": {},
   "outputs": [],
   "source": [
    "#for cell in nb['cells'][:5]:\n",
    "#    print(tag_in_cell(cell, '# Source'))"
   ]
  },
  {
   "cell_type": "markdown",
   "metadata": {},
   "source": [
    "## Connecting to an Openai API\n",
    "In order to use all JupyterChat you need to provide the base url for the Openai API (not neccessary if its actually openai.com), and a valid API key of the provider.\n",
    "\n",
    "The following example is using https://openrouter.ai which gives you free access to multiple open source models."
   ]
  },
  {
   "cell_type": "code",
   "execution_count": null,
   "metadata": {},
   "outputs": [],
   "source": [
    "import os\n",
    "api_key = os.environ.get('API_KEY')\n",
    "jc = JupyterChat(openai_base_url=\"https://openrouter.ai/api/v1\", api_key=api_key)"
   ]
  },
  {
   "cell_type": "markdown",
   "metadata": {},
   "source": [
    "#| chat_assistant\n",
    "Hello there I am JupyterChat your witty AI assistant. How can I help you today?"
   ]
  },
  {
   "cell_type": "markdown",
   "metadata": {},
   "source": [
    "#| chat_user\n",
    "I am wondering when https://solveit.fast.ai/ will make solveit available"
   ]
  },
  {
   "cell_type": "code",
   "execution_count": null,
   "metadata": {},
   "outputs": [],
   "source": [
    "#jc.extract_notebook_dialoge()"
   ]
  },
  {
   "cell_type": "code",
   "execution_count": null,
   "metadata": {},
   "outputs": [],
   "source": [
    "#jc.send_dialoge()"
   ]
  },
  {
   "cell_type": "code",
   "execution_count": null,
   "metadata": {},
   "outputs": [],
   "source": [
    "#| hide\n",
    "import nbdev; nbdev.nbdev_export()"
   ]
  }
 ],
 "metadata": {
  "kernelspec": {
   "display_name": "python3",
   "language": "python",
   "name": "python3"
  }
 },
 "nbformat": 4,
 "nbformat_minor": 4
}
