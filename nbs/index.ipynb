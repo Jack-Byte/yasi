{
 "cells": [
  {
   "cell_type": "code",
   "execution_count": null,
   "metadata": {},
   "outputs": [],
   "source": [
    "#| hide\n",
    "from yasi.core import *"
   ]
  },
  {
   "cell_type": "markdown",
   "metadata": {},
   "source": [
    "# yasi\n",
    "\n",
    "> DIY alternative to solve it from fast.ai (Yet-Another-SolveIt)"
   ]
  },
  {
   "cell_type": "markdown",
   "metadata": {},
   "source": [
    "## Usage"
   ]
  },
  {
   "cell_type": "markdown",
   "metadata": {},
   "source": [
    "### Installation"
   ]
  },
  {
   "cell_type": "markdown",
   "metadata": {},
   "source": [
    "Install latest from the GitHub [repository][repo]:\n",
    "\n",
    "```sh\n",
    "$ pip install git+https://github.com/Jack-Byte/yasi.git\n",
    "```\n",
    "\n",
    "or from [pypi][pypi]\n",
    "\n",
    "\n",
    "```sh\n",
    "$ pip install yasi\n",
    "```\n",
    "\n",
    "\n",
    "[repo]: https://github.com/Jack-Byte/yasi\n",
    "[docs]: https://Jack-Byte.github.io/yasi/\n",
    "[pypi]: https://pypi.org/project/yasi/\n",
    "[conda]: https://anaconda.org/Jack-Byte/yasi"
   ]
  },
  {
   "cell_type": "markdown",
   "metadata": {},
   "source": [
    "### Documentation"
   ]
  },
  {
   "cell_type": "markdown",
   "metadata": {},
   "source": [
    "Documentation can be found hosted on this GitHub [repository][repo]'s [pages][docs]. Additionally you can find package manager specific guidelines on [conda][conda] and [pypi][pypi] respectively.\n",
    "\n",
    "[repo]: https://github.com/Jack-Byte/yasi\n",
    "[docs]: https://Jack-Byte.github.io/yasi/\n",
    "[pypi]: https://pypi.org/project/yasi/\n",
    "[conda]: https://anaconda.org/Jack-Byte/yasi"
   ]
  },
  {
   "cell_type": "markdown",
   "metadata": {},
   "source": [
    "## How to use"
   ]
  },
  {
   "cell_type": "markdown",
   "metadata": {},
   "source": [
    "Setup a chat by. Import JupyterChat, set openai_base_url (only if you are not using Openai itself), and provide your api key."
   ]
  },
  {
   "cell_type": "code",
   "execution_count": null,
   "metadata": {},
   "outputs": [],
   "source": [
    "import os\n",
    "from yasi.core import JupyterChat\n",
    "\n",
    "api_key = os.environ.get('API_KEY')\n",
    "jc = JupyterChat(openai_base_url=\"https://openrouter.ai/api/v1\", api_key=api_key)"
   ]
  },
  {
   "cell_type": "markdown",
   "metadata": {},
   "source": [
    "### Query Openai directly\n",
    "You can use the ``send_query`` method to interacte through a code cell directly. The response will be added as a new markdown cell in your current notebook."
   ]
  },
  {
   "cell_type": "code",
   "execution_count": null,
   "metadata": {},
   "outputs": [],
   "source": [
    "jc.send_query('Kia ora, how are you?')"
   ]
  },
  {
   "cell_type": "markdown",
   "metadata": {},
   "source": [
    "#| chat_assistant\n",
    "\n",
    "Kia ora! I'm doing well, thanks for asking! It's great to connect with you and practice some basic Maori phrases. How can I help you today?"
   ]
  },
  {
   "cell_type": "markdown",
   "metadata": {},
   "source": [
    "### Send Dialoge from your Notebook\n",
    "JupyterChat can also extract messages from your current notebook and construct a dialoge. Running out of time... more examples with the next commit."
   ]
  }
 ],
 "metadata": {
  "kernelspec": {
   "display_name": "python3",
   "language": "python",
   "name": "python3"
  }
 },
 "nbformat": 4,
 "nbformat_minor": 4
}
