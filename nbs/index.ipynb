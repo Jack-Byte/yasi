{
 "cells": [
  {
   "cell_type": "code",
   "execution_count": null,
   "metadata": {},
   "outputs": [],
   "source": [
    "#| hide\n",
    "from yasi.core import *"
   ]
  },
  {
   "cell_type": "markdown",
   "metadata": {},
   "source": [
    "# yasi\n",
    "\n",
    "> DIY alternative to solve it from fast.ai (Yet-Another-SolveIt)"
   ]
  },
  {
   "cell_type": "markdown",
   "metadata": {},
   "source": [
    "## Usage"
   ]
  },
  {
   "cell_type": "markdown",
   "metadata": {},
   "source": [
    "### Installation"
   ]
  },
  {
   "cell_type": "markdown",
   "metadata": {},
   "source": [
    "Install latest from the GitHub [repository][repo]:\n",
    "\n",
    "```sh\n",
    "$ pip install git+https://github.com/Jack-Byte/yasi.git\n",
    "```\n",
    "\n",
    "or from [pypi][pypi]\n",
    "\n",
    "\n",
    "```sh\n",
    "$ pip install yasi\n",
    "```\n",
    "\n",
    "\n",
    "[repo]: https://github.com/Jack-Byte/yasi\n",
    "[docs]: https://Jack-Byte.github.io/yasi/\n",
    "[pypi]: https://pypi.org/project/yasi/\n",
    "[conda]: https://anaconda.org/Jack-Byte/yasi"
   ]
  },
  {
   "cell_type": "markdown",
   "metadata": {},
   "source": [
    "### Documentation"
   ]
  },
  {
   "cell_type": "markdown",
   "metadata": {},
   "source": [
    "Documentation can be found hosted on this GitHub [repository][repo]'s [pages][docs]. Additionally you can find package manager specific guidelines on [conda][conda] and [pypi][pypi] respectively.\n",
    "\n",
    "[repo]: https://github.com/Jack-Byte/yasi\n",
    "[docs]: https://Jack-Byte.github.io/yasi/\n",
    "[pypi]: https://pypi.org/project/yasi/\n",
    "[conda]: https://anaconda.org/Jack-Byte/yasi"
   ]
  },
  {
   "cell_type": "markdown",
   "metadata": {},
   "source": [
    "## How to use"
   ]
  },
  {
   "cell_type": "markdown",
   "metadata": {},
   "source": [
    "You can try it online with Binder [![Binder](https://mybinder.org/badge_logo.svg)](https://mybinder.org/v2/gh/Jack-Byte/yasi/HEAD?urlpath=%2Fdoc%2Ftree%2F%2Fexamples%2Fmoney_and_kangaroos.ipynb)\n",
    "\n",
    "Import JupyterChat, set openai_base_url (only if you are not using Openai itself), and provide your api key directly or as the env variable ``OPENAI_API_KEY``."
   ]
  },
  {
   "cell_type": "code",
   "execution_count": null,
   "metadata": {},
   "outputs": [],
   "source": [
    "from yasi.core import JupyterChat\n",
    "\n",
    "jc = JupyterChat(openai_base_url=\"https://openrouter.ai/api/v1\", api_key=None)"
   ]
  },
  {
   "cell_type": "markdown",
   "metadata": {},
   "source": [
    "### Query Openai directly\n",
    "You can use the ``send_query`` method to interacte through a code cell directly. The response will be added as a new markdown cell in your current notebook."
   ]
  },
  {
   "cell_type": "code",
   "execution_count": null,
   "metadata": {},
   "outputs": [],
   "source": [
    "jc.send_query('Kia ora, how are you?')"
   ]
  },
  {
   "cell_type": "markdown",
   "metadata": {},
   "source": [
    "#| chat_assistant\n",
    "\n",
    "Kia ora! I'm doing well, thanks for asking! It's great to connect with you and practice some basic Maori phrases. How can I help you today?"
   ]
  },
  {
   "cell_type": "markdown",
   "metadata": {},
   "source": [
    "### Send Dialoge from your Notebook\n",
    "JupyterChat is designed to extract messages from your current notebook and construct a dialoge. \n",
    "\n",
    "It's searching for markdown cells that contain the tags \n",
    "\n",
    " - ``#| chat_system`` (optional) sets the context for the conversation, providing the AI with a \"hint\" about the type of response expected\n",
    " - ``#| chat_user`` your messages\n",
    " - ``#| chat_assistant`` the AIs real responses, or the ones that you ingest into the dialog\n",
    "\n",
    "and sends the dialog to the Openai API.\n",
    "\n",
    "![](files/yasi_demo_roos.gif)"
   ]
  }
 ],
 "metadata": {
  "kernelspec": {
   "display_name": "python3",
   "language": "python",
   "name": "python3"
  }
 },
 "nbformat": 4,
 "nbformat_minor": 4
}
