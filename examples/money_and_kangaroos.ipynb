{
 "cells": [
  {
   "cell_type": "markdown",
   "id": "89760d1c-77a7-4a1f-a4b9-56e356d153f2",
   "metadata": {},
   "source": [
    "## Connecting to an Openai API\n",
    "In order to use all of JupyterChats functionalities you need to provide the \n",
    "\n",
    " - base url for the Openai API (not neccessary if its actually openai.com)\n",
    " - and a valid API key of the provider (directly or as env variable ``OPENAI_API_KEY``)\n",
    "\n",
    "The following example is using https://openrouter.ai which gives you free access to multiple open source models."
   ]
  },
  {
   "cell_type": "code",
   "execution_count": 4,
   "id": "64eee6d5-7d0e-4dda-9b94-a1c7e6d3ad45",
   "metadata": {},
   "outputs": [],
   "source": [
    "from yasi.core import JupyterChat\n",
    "\n",
    "jc = JupyterChat(openai_base_url=\"https://openrouter.ai/api/v1\", api_key=None)"
   ]
  },
  {
   "cell_type": "markdown",
   "id": "eac66df0-0d3c-4e8c-b947-1af34d858fbb",
   "metadata": {},
   "source": [
    "## Predefine a Dialog\n",
    "Let's reproduce an example from Jeremy Howards [\"A Hackers’ Guide to Language Models\"](https://www.youtube.com/watch?v=jkrNMKz9pWU&t=38m50s) where he ingests the AIs response \"money is like kangaroos\", by predifining a dialog. This is forcing the model to somehow make sense about _it's own_ nonesense."
   ]
  },
  {
   "cell_type": "markdown",
   "id": "20222c9e-4961-4451-8c7c-dd59f45c7b9b",
   "metadata": {},
   "source": [
    "### Define a system prompt that turns the AI into our mate from Oz\n",
    "\n",
    "#| chat_system\n",
    "\n",
    "You are an Aussie LLM that uses Aussie slang and analogies whenever possible."
   ]
  },
  {
   "cell_type": "markdown",
   "id": "10eb39e6-6bf6-4edb-ae09-ab1f0beb69b3",
   "metadata": {},
   "source": [
    "\n",
    "### message as user with your question\n",
    "\n",
    "#| chat_user\n",
    "\n",
    "What is money?"
   ]
  },
  {
   "cell_type": "markdown",
   "id": "49f3aeb1-9a6d-41d4-8cb8-11e90fcf1b2b",
   "metadata": {},
   "source": [
    "### message as assistant with an quite weird answer\n",
    "\n",
    "#| chat_assistant\n",
    "\n",
    "Well, mate, money is like kangaroos actually."
   ]
  },
  {
   "cell_type": "markdown",
   "id": "386e177f-9c16-4f3c-9f89-8120411ecbbe",
   "metadata": {},
   "source": [
    "### messsage as user with your follow up question\n",
    "\n",
    "#| chat_user\n",
    "\n",
    "Really? In what way?"
   ]
  },
  {
   "cell_type": "markdown",
   "id": "4a7410a9-ad2f-4dd6-a765-28acf394ee64",
   "metadata": {},
   "source": [
    "### Extract the Dialog from the Notebook\n",
    "\n",
    "When you call the ``extract_notebook_dialoge`` function on your JupyterChat object, you can preview the dialog that will be send to the AI. JupyterChat will extract the full markdown cell, that's why we also see the headers in there."
   ]
  },
  {
   "cell_type": "code",
   "execution_count": 5,
   "id": "701eb970-5934-45a3-85af-6bda719bf9a3",
   "metadata": {},
   "outputs": [
    {
     "data": {
      "text/plain": [
       "[{'role': 'system',\n",
       "  'content': '### Define a system prompt that turns the AI into our mate from Oz\\n\\n#| chat_system\\n\\nYou are an Aussie LLM that uses Aussie slang and analogies whenever possible.'},\n",
       " {'role': 'user',\n",
       "  'content': '\\n### message as user with your question\\n\\n#| chat_user\\n\\nWhat is money?'},\n",
       " {'role': 'assistant',\n",
       "  'content': '### message as assistant with an quite weird answer\\n\\n#| chat_assistant\\n\\nWell, mate, money is like kangaroos actually.'},\n",
       " {'role': 'user',\n",
       "  'content': '### messsage as user with your follow up question\\n\\n#| chat_user\\n\\nReally? In what way?'}]"
      ]
     },
     "execution_count": 5,
     "metadata": {},
     "output_type": "execute_result"
    }
   ],
   "source": [
    "jc.extract_notebook_dialog()"
   ]
  },
  {
   "cell_type": "markdown",
   "id": "999905d6-fc72-4f07-b013-d8b0bd23b2be",
   "metadata": {},
   "source": [
    "### Send the Dialog\n",
    "\n",
    "When you call the ``send_dialog`` function, it will ``extract_notebook_dialoge`` in the background, send the dialog to the AI and add the response as a new markdown cell below.\n",
    "\n",
    "In the last cell of this notebook, you see how the AI made sense of _it's own_ nonesense.\n",
    "\n",
    "(Since the headings and the tags were part of the conversation it used it in it's answer, too)"
   ]
  },
  {
   "cell_type": "code",
   "execution_count": 6,
   "id": "357d5d5d-4ef4-4e3d-b550-b0533bc8f311",
   "metadata": {},
   "outputs": [],
   "source": [
    "jc.send_dialog()"
   ]
  }
 ],
 "metadata": {
  "kernelspec": {
   "display_name": "Python 3 (ipykernel)",
   "language": "python",
   "name": "python3"
  },
  "language_info": {
   "codemirror_mode": {
    "name": "ipython",
    "version": 3
   },
   "file_extension": ".py",
   "mimetype": "text/x-python",
   "name": "python",
   "nbconvert_exporter": "python",
   "pygments_lexer": "ipython3",
   "version": "3.12.11"
  }
 },
 "nbformat": 4,
 "nbformat_minor": 5
}
